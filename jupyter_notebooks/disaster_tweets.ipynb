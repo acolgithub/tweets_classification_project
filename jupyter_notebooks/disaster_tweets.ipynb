{
 "cells": [
  {
   "cell_type": "markdown",
   "id": "9f98cc72",
   "metadata": {},
   "source": [
    "## Imports"
   ]
  },
  {
   "cell_type": "code",
   "execution_count": null,
   "id": "3ea7ab3a",
   "metadata": {},
   "outputs": [],
   "source": [
    "import os\n",
    "import zipfile\n",
    "\n",
    "import pandas as pd\n",
    "import numpy as np\n",
    "\n",
    "# natural language processing\n",
    "import nltk\n",
    "from nltk.corpus import words\n",
    "from nltk.tokenize import word_tokenize\n",
    "from nltk.stem.porter import PorterStemmer\n",
    "\n",
    "from textblob import TextBlob  # imported to correct text\n",
    "\n",
    "# from tokenizers import BertWordPieceTokenizer\n",
    "\n",
    "# machine learning\n",
    "from sklearn.model_selection import train_test_split\n",
    "\n",
    "import tensorflow as tf\n",
    "from tensorflow.keras.layers import Dense, Input\n",
    "from tensorflow.keras.optimizers import Adam\n",
    "from tensorflow.keras.models import Model\n",
    "# from tensorflow.keras.callback import ModelCheckpoint"
   ]
  },
  {
   "cell_type": "markdown",
   "id": "0239c537",
   "metadata": {},
   "source": [
    "## Extract Data"
   ]
  },
  {
   "cell_type": "code",
   "execution_count": null,
   "id": "60d21e08",
   "metadata": {},
   "outputs": [],
   "source": [
    "# get zipped file name\n",
    "file = \"nlp-getting-started.zip\"\n",
    "\n",
    "# check if file for data exists and create if does not\n",
    "os.makedirs(\"data\", exist_ok=True)\n",
    "\n",
    "# unzip file and save to 'data' folder\n",
    "with zipfile.ZipFile(file, \"r\") as zip_ref:\n",
    "    zip_ref.extractall(\"data\")"
   ]
  },
  {
   "cell_type": "markdown",
   "id": "6d576f5f",
   "metadata": {},
   "source": [
    "## Get Data"
   ]
  },
  {
   "cell_type": "code",
   "execution_count": null,
   "id": "abcaa4c6",
   "metadata": {},
   "outputs": [],
   "source": [
    "# get train and test data\n",
    "train = pd.read_csv(\"./data/train.csv\")\n",
    "test = pd.read_csv(\"./data/test.csv\")"
   ]
  },
  {
   "cell_type": "markdown",
   "id": "f654ea3c",
   "metadata": {},
   "source": [
    "## Analyze Data"
   ]
  },
  {
   "cell_type": "code",
   "execution_count": null,
   "id": "5e29c29a",
   "metadata": {},
   "outputs": [],
   "source": [
    "# get train and test shapes\n",
    "print(f\"train shape: {train.shape}\")\n",
    "print(f\"test shape: {test.shape}\")"
   ]
  },
  {
   "cell_type": "code",
   "execution_count": null,
   "id": "79d8975a",
   "metadata": {},
   "outputs": [],
   "source": [
    "# get first 20 rows of training set\n",
    "train.head(20)"
   ]
  },
  {
   "cell_type": "code",
   "execution_count": null,
   "id": "d73c3bc1",
   "metadata": {},
   "outputs": [],
   "source": [
    "# get column data types\n",
    "train.dtypes"
   ]
  },
  {
   "cell_type": "code",
   "execution_count": null,
   "id": "5dc2b14f",
   "metadata": {},
   "outputs": [],
   "source": [
    "# check for 'NA'\n",
    "print(f\"train NA:\\n\\n{pd.isna(train).sum()}\\n\\n\")\n",
    "print(f\"test NA:\\n\\n{pd.isna(test).sum()}\")"
   ]
  },
  {
   "cell_type": "code",
   "execution_count": null,
   "id": "4545e4d1",
   "metadata": {},
   "outputs": [],
   "source": [
    "# distribution of disasters and non-disasters in training set\n",
    "print(f\"diasters: {(train.target == 1).sum()},\\nnon-disasters: {(train.target == 0).sum()}\")"
   ]
  },
  {
   "cell_type": "markdown",
   "id": "9ecfbc56",
   "metadata": {},
   "source": [
    "## Preprocess Text and create train/test split"
   ]
  },
  {
   "cell_type": "code",
   "execution_count": null,
   "id": "42634fac",
   "metadata": {},
   "outputs": [],
   "source": [
    "# preprocess function\n",
    "def text_preprocess(doc):\n",
    "    \n",
    "    preprocessed_doc = []\n",
    "    for text in doc:\n",
    "        \n",
    "        # make lowercase\n",
    "        text = text.lower()\n",
    "        \n",
    "        # remove urls\n",
    "        text = tf.strings.regex_replace(text, \"(?:https?)?:\\/\\/t.co\\/\\w*\", \" \")\n",
    "        \n",
    "        # remove mentions\n",
    "        text = tf.strings.regex_replace(text, \"@\\w+\", \" \")\n",
    "        \n",
    "        # correct typos\n",
    "        text = TextBlob(text.numpy().decode(\"utf-8\")).correct().string\n",
    "        \n",
    "        # tokenize by word\n",
    "        word_tokens = word_tokenize(text)\n",
    "        \n",
    "        # remove non-alphabetical characters\n",
    "        word_tokens = [word for word in word_tokens if word.isalnum()]\n",
    "        \n",
    "        # apply stemmer\n",
    "        stemmer = PorterStemmer()\n",
    "        word_tokens = [stemmer.stem(word) for word in word_tokens]\n",
    "        \n",
    "        # reappend to preprocessed doc\n",
    "        preprocessed_doc.append(word_tokens)\n",
    "    \n",
    "    \n",
    "    \n",
    "    return preprocessed_doc\n",
    "\n",
    "\n",
    "# preprocessed train and test text\n",
    "preprocessed_train = text_preprocess(train.text)\n",
    "preprocess_test = text_preprocess(test.text)"
   ]
  },
  {
   "cell_type": "code",
   "execution_count": null,
   "id": "a2b9d492",
   "metadata": {},
   "outputs": [],
   "source": [
    "# get target values for training set\n",
    "y = train.target\n",
    "\n",
    "# split preprocessed train text into intermediate train/test sets (0.8, 0.2)\n",
    "X_intermediate, X_test, y_intermediate, y_test = train_test_split(preprocessed_train, y, test_size=0.2, random_state=42, shuffle=True)\n",
    "\n",
    "# split intermediate train set into train/validation set (0.75, 0.25)\n",
    "X_train, X_val, y_train, y_val = train_test_split(X_intermediate, y_intermediate, test_size=0.25, random_state=42, shuffle=True)"
   ]
  },
  {
   "cell_type": "code",
   "execution_count": null,
   "id": "d205a602",
   "metadata": {},
   "outputs": [],
   "source": []
  },
  {
   "cell_type": "code",
   "execution_count": null,
   "id": "c14e5404",
   "metadata": {},
   "outputs": [],
   "source": []
  }
 ],
 "metadata": {
  "kernelspec": {
   "display_name": "Python 3 (ipykernel)",
   "language": "python",
   "name": "python3"
  },
  "language_info": {
   "codemirror_mode": {
    "name": "ipython",
    "version": 3
   },
   "file_extension": ".py",
   "mimetype": "text/x-python",
   "name": "python",
   "nbconvert_exporter": "python",
   "pygments_lexer": "ipython3",
   "version": "3.10.13"
  }
 },
 "nbformat": 4,
 "nbformat_minor": 5
}
